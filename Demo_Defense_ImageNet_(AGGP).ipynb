{
 "cells": [
  {
   "cell_type": "code",
   "execution_count": null,
   "id": "c2104f67-9cc3-4ff7-bf6b-2b6ac5921894",
   "metadata": {},
   "outputs": [],
   "source": [
    "import torch\n",
    "import torch.nn as nn\n",
    "import torchvision\n",
    "from torch.utils.data import DataLoader\n",
    "from torchvision.transforms import Compose, Resize, CenterCrop, ToTensor, Normalize\n",
    "\n",
    "from core import multi_evaluate, exp_aggregator, IdentityConv2d\n",
    "import matplotlib.pyplot as plt\n",
    "import random\n",
    "from scipy.stats import norm\n",
    "import numpy as np"
   ]
  },
  {
   "cell_type": "code",
   "execution_count": null,
   "id": "d53e92b6-c6f8-4ea7-9d9e-de617ef4ea28",
   "metadata": {},
   "outputs": [],
   "source": [
    "def AGGP(tensor, a):\n",
    "    p_l = 0.01\n",
    "    p_u = 0.95\n",
    "    c = 16\n",
    "\n",
    "    # Apply Equation (14)\n",
    "    p_keep = ((a - 1)**2 * (p_u - p_l)) / ((c - 2)**2) + p_l\n",
    "    p_prune = 1 - p_keep\n",
    "    \n",
    "    num_elements = tensor.numel()\n",
    "    num_elements_to_prune = int(num_elements * p_prune)\n",
    "    sorted_indices = torch.argsort(torch.abs(tensor))\n",
    "    tensor[sorted_indices[:num_elements_to_prune]] = 0\n",
    "    keep_indices = sorted_indices[num_elements_to_prune:]\n",
    "    \n",
    "    # Determine the number of additional elements to prune\n",
    "    num_additional_to_prune = int(keep_indices.numel() * 0.75)\n",
    "    \n",
    "    # Randomly select 50% of the keep_indices to prune\n",
    "    additional_prune_indices = keep_indices[torch.randperm(keep_indices.numel())[:num_additional_to_prune]]\n",
    "    \n",
    "    # Set these randomly selected elements to zero\n",
    "    tensor[additional_prune_indices] = 0\n",
    "    \n",
    "    return tensor"
   ]
  },
  {
   "cell_type": "code",
   "execution_count": null,
   "id": "2a45ec06-8862-434c-8dcf-863a1854292d",
   "metadata": {},
   "outputs": [],
   "source": [
    "def plot20(batch, name=\"\"):\n",
    "    # Create a 4x5 grid of subplots\n",
    "    fig, axs = plt.subplots(4, 5, figsize=(11.5, 9))\n",
    "    fig.subplots_adjust(hspace=0.1, wspace=0)\n",
    "    \n",
    "    # Inverse normalization parameters\n",
    "    mean=[0.485, 0.456, 0.406]\n",
    "    std=[0.229, 0.224, 0.225]\n",
    "    \n",
    "    # Iterate over each subplot and plot the corresponding image\n",
    "    img_idx = 0\n",
    "    for i in range(4):\n",
    "        for j in range(5):\n",
    "            axs[i, j].axis('off')  # Turn off axis for each subplot in the grid\n",
    "            \n",
    "            # Undo normalization\n",
    "            img = batch[img_idx].permute(1, 2, 0).cpu().numpy()  # Convert from CHW to HWC format and to numpy array\n",
    "            img = (img * np.array(std)) + np.array(mean)  # Apply inverse normalization\n",
    "            img[img==mean] = 0 # pixels that had value == 0 did not carry any information, set them to black for better visualization\n",
    "            img = np.clip(img, 0, 1)  # Clip values to be in the range [0, 1]\n",
    "            \n",
    "            axs[i, j].imshow(img)\n",
    "            img_idx += 1\n",
    "    \n",
    "    # Hide the main plot axes\n",
    "    plt.axis('off')\n",
    "    plt.suptitle(name)\n",
    "    \n",
    "    # Show the plot\n",
    "    #plt.savefig(name)\n",
    "    plt.show()"
   ]
  },
  {
   "cell_type": "code",
   "execution_count": null,
   "id": "fd50c712-4789-4ee2-9b33-737b17ff41df",
   "metadata": {},
   "outputs": [],
   "source": [
    "# CONFIG\n",
    "batch_size = 20\n",
    "num_neurons = 200\n",
    "data_path = 'data/imagenet'\n",
    "\n",
    "transforms = Compose([\n",
    "    Resize(size=256),\n",
    "    CenterCrop(size=(224, 224)),\n",
    "    ToTensor(),\n",
    "    Normalize(mean=[0.485, 0.456, 0.406], std=[0.229, 0.224, 0.225])\n",
    "])\n",
    "\n",
    "\n",
    "base_dataset = torchvision.datasets.ImageNet(\n",
    "    root=data_path, split=\"val\", transform=transforms\n",
    ")\n",
    "\n",
    "val_loader = DataLoader(base_dataset, batch_size=batch_size, shuffle=True)"
   ]
  },
  {
   "cell_type": "markdown",
   "id": "56c4b2e0-402a-4694-9c14-075b143809f6",
   "metadata": {},
   "source": [
    "## True user data"
   ]
  },
  {
   "cell_type": "code",
   "execution_count": null,
   "id": "c3b8a817-d2a6-4bbe-bd91-720f91b34598",
   "metadata": {},
   "outputs": [],
   "source": [
    "user_data, label = next(iter(val_loader))\n",
    "plot20(user_data, \"True user data\")"
   ]
  },
  {
   "cell_type": "markdown",
   "id": "1ae10468-59c0-4eab-9603-c70862adb07b",
   "metadata": {},
   "source": [
    "### Basic setup"
   ]
  },
  {
   "cell_type": "code",
   "execution_count": null,
   "id": "e8ccb680-86be-4ebf-b781-ece6edb48aeb",
   "metadata": {},
   "outputs": [],
   "source": [
    "device = torch.device(\"cpu\")\n",
    "layer = nn.Linear(3 * 224 * 224, num_neurons).to(device)\n",
    "\n",
    "model = IdentityConv2d(layer, 1000)\n",
    "criterion = nn.CrossEntropyLoss()"
   ]
  },
  {
   "cell_type": "markdown",
   "id": "6f89a041-a3f9-4a08-86ff-b4f9d4596ac1",
   "metadata": {},
   "source": [
    "## Passive data leak of first 20 neurons"
   ]
  },
  {
   "cell_type": "code",
   "execution_count": null,
   "id": "c16f9e2f-aeaa-496c-a8f3-799efceeba47",
   "metadata": {},
   "outputs": [],
   "source": [
    "output = model(user_data)\n",
    "loss = criterion(output, label)\n",
    "loss.backward()\n",
    "\n",
    "w_grad = layer.weight.grad.clone()\n",
    "b_grad = layer.bias.grad.clone()\n",
    "\n",
    "intermediate = w_grad / b_grad.view(-1, 1)\n",
    "intermediate = intermediate.reshape(-1, 3, 224, 224).to(\"cpu\")\n",
    "\n",
    "first_20_neurons = intermediate[:20].reshape(-1, 3, 224, 224).to(\"cpu\")\n",
    "plot20(first_20_neurons, \"Passive leak of first 20 neurons (benign network)\")"
   ]
  },
  {
   "cell_type": "markdown",
   "id": "b8446ee8-f34a-406d-b59c-8d5407c7f0b5",
   "metadata": {},
   "source": [
    "### Impact of gradient pruning on passive leak"
   ]
  },
  {
   "cell_type": "code",
   "execution_count": null,
   "id": "88557fde-fe6a-4617-afc6-d5d1ac834bd7",
   "metadata": {},
   "outputs": [],
   "source": [
    "layer.weight.grad.zero_()\n",
    "layer.bias.grad.zero_()\n",
    "\n",
    "output = model(user_data)\n",
    "loss = criterion(output, label)\n",
    "loss.backward()\n",
    "\n",
    "w_grad = layer.weight.grad.clone()\n",
    "b_grad = layer.bias.grad.clone()\n",
    "\n",
    "# gradient pruning\n",
    "activation_counts = model.activation_counts\n",
    "num_features = w_grad.shape[0]\n",
    "print(activation_counts[:20])\n",
    "for i, a in enumerate(activation_counts[:20]):\n",
    "    if a == 0 or a > 10:\n",
    "        continue\n",
    "    with torch.no_grad():\n",
    "        w_grad[i] = AGGP(w_grad[i], a) \n",
    "\n",
    "# reconstruction\n",
    "intermediate = w_grad / b_grad.view(-1, 1)\n",
    "intermediate = intermediate.reshape(-1, 3, 224, 224).to(\"cpu\")\n",
    "\n",
    "first_20_neurons = intermediate[:20].reshape(-1, 3, 224, 224).to(\"cpu\")\n",
    "plot20(first_20_neurons, \"Passive data leakage\")"
   ]
  },
  {
   "cell_type": "markdown",
   "id": "07239e26-efc7-4149-8539-48ae5230a336",
   "metadata": {},
   "source": [
    "## Perform active attack"
   ]
  },
  {
   "cell_type": "code",
   "execution_count": null,
   "id": "76d3bacb-1f88-47ce-8743-35104b65d141",
   "metadata": {},
   "outputs": [],
   "source": [
    "device = torch.device(\"cpu\")\n",
    "layer = nn.Linear(3 * 224 * 224, num_neurons).to(device)\n",
    "\n",
    "with torch.no_grad():\n",
    "    layer.weight.data.normal_()\n",
    "    \n",
    "# QBI\n",
    "optimal_bias = norm.ppf(1 / batch_size) * np.sqrt(3 * 224 * 224)\n",
    "layer.bias.data.fill_(optimal_bias)\n",
    "\n",
    "model = IdentityConv2d(layer, 1000)\n",
    "criterion = nn.CrossEntropyLoss()"
   ]
  },
  {
   "cell_type": "markdown",
   "id": "d38225bc-c097-4f17-9ebe-d37b376d8780",
   "metadata": {},
   "source": [
    "## Plot active data leak of first 20 neurons"
   ]
  },
  {
   "cell_type": "code",
   "execution_count": null,
   "id": "399c560f",
   "metadata": {},
   "outputs": [],
   "source": [
    "output = model(user_data)\n",
    "loss = criterion(output, label)\n",
    "loss.backward()\n",
    "\n",
    "w_grad = model.fc1.weight.grad.clone()\n",
    "b_grad = model.fc1.bias.grad.clone()\n",
    "\n",
    "intermediate = w_grad / b_grad.view(-1, 1)\n",
    "intermediate = intermediate.reshape(-1, 3, 224, 224).to(\"cpu\")\n",
    "\n",
    "first_20_neurons = intermediate[:20].reshape(-1, 3, 224, 224).to(\"cpu\")\n",
    "plot20(first_20_neurons, \"Active leak of first 20 neurons in maliciously initialized model\")"
   ]
  },
  {
   "cell_type": "markdown",
   "id": "05cfe06c-b60a-424d-96ed-a1a093a6b57d",
   "metadata": {},
   "source": [
    "## Plot impact of activation based gradient pruning"
   ]
  },
  {
   "cell_type": "code",
   "execution_count": null,
   "id": "77ca1713",
   "metadata": {},
   "outputs": [],
   "source": [
    "layer.weight.grad.zero_()\n",
    "layer.bias.grad.zero_()\n",
    "\n",
    "output = model(user_data)\n",
    "loss = criterion(output, label)\n",
    "loss.backward()\n",
    "\n",
    "w_grad = model.fc1.weight.grad.clone()\n",
    "b_grad = model.fc1.bias.grad.clone()\n",
    "\n",
    "activation_counts = model.activation_counts\n",
    "num_features = w_grad.shape[0]\n",
    "print(activation_counts[:20])\n",
    "for i, a in enumerate(activation_counts[:20]):\n",
    "    if a == 0 or a > 10:\n",
    "        continue\n",
    "    with torch.no_grad():\n",
    "        w_grad[i] = AGGP(w_grad[i], a) \n",
    "\n",
    "# reconstruction\n",
    "intermediate = w_grad / b_grad.view(-1, 1)\n",
    "intermediate = intermediate.reshape(-1, 3, 224, 224).to(\"cpu\")\n",
    "\n",
    "first_20_neurons = intermediate[:20].reshape(-1, 3, 224, 224).to(\"cpu\")\n",
    "plot20(first_20_neurons, \"Impact of AGGP on Active leak\")"
   ]
  },
  {
   "cell_type": "code",
   "execution_count": null,
   "id": "c7e5e4b3-03f2-4762-9c8c-4b866bad2c2c",
   "metadata": {},
   "outputs": [],
   "source": []
  }
 ],
 "metadata": {
  "kernelspec": {
   "display_name": "Python 3 (ipykernel)",
   "language": "python",
   "name": "python3"
  },
  "language_info": {
   "codemirror_mode": {
    "name": "ipython",
    "version": 3
   },
   "file_extension": ".py",
   "mimetype": "text/x-python",
   "name": "python",
   "nbconvert_exporter": "python",
   "pygments_lexer": "ipython3",
   "version": "3.11.9"
  }
 },
 "nbformat": 4,
 "nbformat_minor": 5
}
